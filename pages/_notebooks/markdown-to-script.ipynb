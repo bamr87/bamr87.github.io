{
 "cells": [
  {
   "cell_type": "code",
   "execution_count": 2,
   "metadata": {},
   "outputs": [],
   "source": [
    "def convert_md_to_bash(md_file_path, bash_file_path):\n",
    "    with open(md_file_path, 'r') as md_file, open(bash_file_path, 'w') as bash_file:\n",
    "        bash_file.write('#!/bin/bash\\n')  # add shebang line\n",
    "        shell_script_mode = False\n",
    "        for line in md_file:\n",
    "            if '```shell' in line:\n",
    "                shell_script_mode = True\n",
    "                continue\n",
    "            elif '```' in line and shell_script_mode:\n",
    "                shell_script_mode = False\n",
    "                continue\n",
    "            if shell_script_mode:\n",
    "                bash_file.write(line)\n",
    "            else:\n",
    "                bash_file.write(f'# {line}')\n",
    "\n",
    "convert_md_to_bash('zer0.md', 'zer0.sh')"
   ]
  },
  {
   "cell_type": "code",
   "execution_count": 18,
   "metadata": {},
   "outputs": [],
   "source": [
    "def convert_md_to_files(md_file_path):\n",
    "    language_files = {}\n",
    "    language_mode = None\n",
    "    language_extensions = {'python': '.py', 'shell': '.sh'}\n",
    "    shebang_lines = {'python': '#!/usr/bin/env python3\\n', 'shell': '#!/bin/bash\\n'}\n",
    "\n",
    "    with open(md_file_path, 'r') as md_file:\n",
    "        for line in md_file:\n",
    "            if line.startswith('```'):\n",
    "                if language_mode:\n",
    "                    # End of a language block, switch back to markdown mode\n",
    "                    language_mode = None\n",
    "                else:\n",
    "                    # Start of a language block, open a new file for this language if not already open\n",
    "                    language = line.strip('`\\n')\n",
    "                    if language in language_extensions:\n",
    "                        language_mode = language\n",
    "                        if language not in language_files:\n",
    "                            language_file = open(md_file_path.replace('.md', language_extensions[language]), 'w')\n",
    "                            if language in shebang_lines:\n",
    "                                language_file.write(shebang_lines[language])\n",
    "                            language_files[language] = language_file\n",
    "                continue\n",
    "\n",
    "            if language_mode:\n",
    "                language_files[language_mode].write(line)\n",
    "\n",
    "    # Close all open language files\n",
    "    for language_file in language_files.values():\n",
    "        language_file.close()\n",
    "\n",
    "convert_md_to_files('zer0.md')"
   ]
  }
 ],
 "metadata": {
  "kernelspec": {
   "display_name": "Python 3",
   "language": "python",
   "name": "python3"
  },
  "language_info": {
   "codemirror_mode": {
    "name": "ipython",
    "version": 3
   },
   "file_extension": ".py",
   "mimetype": "text/x-python",
   "name": "python",
   "nbconvert_exporter": "python",
   "pygments_lexer": "ipython3",
   "version": "3.9.6"
  }
 },
 "nbformat": 4,
 "nbformat_minor": 2
}

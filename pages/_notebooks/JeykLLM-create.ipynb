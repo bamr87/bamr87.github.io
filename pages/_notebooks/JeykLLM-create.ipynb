{
  "cells": [
    {
      "cell_type": "markdown",
      "metadata": {
        "id": "hIPZi2Iubuvy"
      },
      "source": [
        "---\n",
        "title: \"Chat GPT Text Generation\"\n",
        "description: \"This notebook demonstrates how to use the Chat GPT model for text generation.\"\n",
        "tags: [\"NLP\", \"GPT\", \"Text Generation\"]\n",
        "libraries:\n",
        "  - openai\n",
        "  - python-dotenv\n",
        "\n",
        "---"
      ]
    },
    {
      "cell_type": "markdown",
      "metadata": {
        "id": "6gr4zftibuvy"
      },
      "source": [
        "## Introduction\n",
        "\n",
        "This notebook demonstrates how to use the Chat GPT model for text generation. Chat GPT is a variant of the GPT model that is fine-tuned on conversational data. This makes it particularly well-suited for generating conversational text.\n"
      ]
    },
    {
      "cell_type": "markdown",
      "metadata": {
        "id": "2HGGs6aXbuvy"
      },
      "source": [
        "## Setup\n",
        "\n",
        "First, we install the `openai` and `python-dotenv` libraries.\n",
        "\n",
        "The `openai` library is an official Python client for the OpenAI API. We will use this library to interact with the Chat GPT model.\n",
        "\n",
        "The `python-dotenv` library is used to load environment variables from a `.env` file. We will use this library to load our OpenAI API key from a `.env` file.\n"
      ]
    },
    {
      "cell_type": "code",
      "execution_count": 1,
      "metadata": {
        "colab": {
          "base_uri": "https://localhost:8080/"
        },
        "id": "6YZmVwd3buvy",
        "outputId": "49f49596-5c49-444b-a326-6ede24c4db64"
      },
      "outputs": [
        {
          "name": "stdout",
          "output_type": "stream",
          "text": [
            "Name: openai\n",
            "Version: 1.30.5\n",
            "Summary: The official Python library for the openai API\n",
            "Home-page: \n",
            "Author: \n",
            "Author-email: OpenAI <support@openai.com>\n",
            "License: \n",
            "Location: /Users/bamr87/Library/Python/3.9/lib/python/site-packages\n",
            "Requires: anyio, distro, httpx, pydantic, sniffio, tqdm, typing-extensions\n",
            "Required-by: \n",
            "Name: python-dotenv\n",
            "Version: 1.0.1\n",
            "Summary: Read key-value pairs from a .env file and set them as environment variables\n",
            "Home-page: https://github.com/theskumar/python-dotenv\n",
            "Author: Saurabh Kumar\n",
            "Author-email: me+github@saurabh-kumar.com\n",
            "License: BSD-3-Clause\n",
            "Location: /Users/bamr87/Library/Python/3.9/lib/python/site-packages\n",
            "Requires: \n",
            "Required-by: \n"
          ]
        }
      ],
      "source": [
        "# Pre-requisites\n",
        "!pip show openai || pip install openai\n",
        "!pip show python-dotenv || pip install python-dotenv"
      ]
    },
    {
      "cell_type": "markdown",
      "metadata": {
        "id": "UIG6kAzJbuvz"
      },
      "source": [
        "## Setting up the OpenAI API Key\n",
        "\n",
        "To use the OpenAI API, you need to sign up for an API key. You can get your API key by creating an account on the OpenAI website.\n",
        "\n",
        "Once you have your API keys, create a `.env` file in the same directory as this notebook and add the following lines with your key values:\n",
        "\n",
        "```shell\n",
        "OPENAI_API_KEY=YOUR_API_KEY # should strat with 'sk-'\n",
        "PROJECT_ID=YOUR_PROJECT_ID  # should start with 'pro-'\n",
        "ORG_ID=YOUR_ORG_ID          # should start with 'org-'\n",
        "```\n"
      ]
    },
    {
      "cell_type": "markdown",
      "metadata": {
        "id": "uZnQXhLCdqsf"
      },
      "source": [
        "## Or Setup your keys in COLAB"
      ]
    },
    {
      "cell_type": "code",
      "execution_count": 22,
      "metadata": {},
      "outputs": [
        {
          "name": "stdout",
          "output_type": "stream",
          "text": [
            "Warning: google-colab is not installed. Skipping google-colab specific operations.\n"
          ]
        }
      ],
      "source": [
        "try:\n",
        "    from google.colab import userdata\n",
        "\n",
        "    api_key = userdata.get('OPENAI_API_KEY')\n",
        "    project_id = userdata.get('PROJECT_ID')\n",
        "    org_id = userdata.get('ORG_ID')\n",
        "except ImportError:\n",
        "    print(\"Warning: google-colab is not installed. Skipping google-colab specific operations.\")"
      ]
    },
    {
      "cell_type": "code",
      "execution_count": 25,
      "metadata": {
        "colab": {
          "base_uri": "https://localhost:8080/"
        },
        "id": "kufVkX10e5kU",
        "outputId": "2f767fe4-acdd-4388-8969-71d5cae0d7fc"
      },
      "outputs": [
        {
          "name": "stdout",
          "output_type": "stream",
          "text": [
            "Warning: google-colab is not installed. Skipping google-colab specific operations.\n"
          ]
        }
      ],
      "source": [
        "try:\n",
        "    from google.colab import userdata\n",
        "\n",
        "    # Get API key from Google Colab userdata\n",
        "    api_key = userdata.get('OPENAI_API_KEY')\n",
        "    if api_key:\n",
        "        print(\"OPENAI_API_KEY loaded successfully from Google Colab.\")\n",
        "    else:\n",
        "        print(\"Failed to load OPENAI_API_KEY from Google Colab.\")\n",
        "\n",
        "    # Get project ID from Google Colab userdata\n",
        "    project_id = userdata.get('PROJECT_ID')\n",
        "    if project_id:\n",
        "        print(\"PROJECT_ID loaded successfully from Google Colab.\")\n",
        "    else:\n",
        "        print(\"Failed to load PROJECT_ID from Google Colab.\")\n",
        "\n",
        "    # Get organization ID from Google Colab userdata\n",
        "    org_id = userdata.get('ORG_ID')\n",
        "    if org_id:\n",
        "        print(\"ORG_ID loaded successfully from Google Colab.\")\n",
        "    else:\n",
        "        print(\"Failed to load ORG_ID from Google Colab.\")\n",
        "except ImportError:\n",
        "    print(\"Warning: google-colab is not installed. Skipping google-colab specific operations.\")"
      ]
    },
    {
      "cell_type": "code",
      "execution_count": 5,
      "metadata": {
        "colab": {
          "base_uri": "https://localhost:8080/"
        },
        "id": "SrijdwzQbuvz",
        "outputId": "e61e6d03-533f-4b56-e5d9-64bc1900bbe1"
      },
      "outputs": [
        {
          "name": "stdout",
          "output_type": "stream",
          "text": [
            "Environment variables loaded successfully.\n",
            "OPENAI_API_KEY loaded successfully.\n",
            "PROJECT_ID loaded successfully.\n",
            "ORG_ID loaded successfully.\n"
          ]
        }
      ],
      "source": [
        "from dotenv import load_dotenv\n",
        "import os\n",
        "\n",
        "# Load environment variables from .env file\n",
        "if load_dotenv():\n",
        "    print(\"Environment variables loaded successfully.\")\n",
        "else:\n",
        "    print(\"Failed to load environment variables.\")\n",
        "\n",
        "# Get API key from environment variables\n",
        "api_key = os.getenv('OPENAI_API_KEY')\n",
        "if api_key:\n",
        "    print(\"OPENAI_API_KEY loaded successfully.\")\n",
        "else:\n",
        "    print(\"Failed to load OPENAI_API_KEY.\")\n",
        "\n",
        "# Get project ID from environment variables\n",
        "project_id = os.getenv('PROJECT_ID')\n",
        "if project_id:\n",
        "    print(\"PROJECT_ID loaded successfully.\")\n",
        "else:\n",
        "    print(\"Failed to load PROJECT_ID.\")\n",
        "\n",
        "# Get organization ID from environment variables\n",
        "org_id = os.getenv('ORG_ID')\n",
        "if org_id:\n",
        "    print(\"ORG_ID loaded successfully.\")\n",
        "else:\n",
        "    print(\"Failed to load ORG_ID.\")\n"
      ]
    },
    {
      "cell_type": "markdown",
      "metadata": {
        "id": "tlAfxk8gbuvz"
      },
      "source": [
        "## Checking the Environment Variables\n",
        "\n",
        "To check if the environment variables are loaded correctly, we will print the API key's first and last 4 characters."
      ]
    },
    {
      "cell_type": "code",
      "execution_count": 6,
      "metadata": {
        "colab": {
          "base_uri": "https://localhost:8080/"
        },
        "id": "TZms7Ahdbuvz",
        "outputId": "e421e1d0-193c-4907-af67-2b00196d2b9b"
      },
      "outputs": [
        {
          "name": "stdout",
          "output_type": "stream",
          "text": [
            "OPENAI_API_KEY:  sk-p...RbaA\n",
            "PROJECT_ID:  proj...OeP3\n",
            "ORG_ID:  org-...1j1N\n"
          ]
        }
      ],
      "source": [
        "# Print the loaded values with only a snippet for security\n",
        "print(\"OPENAI_API_KEY: \", api_key[:4] + \"...\" + api_key[-4:])\n",
        "print(\"PROJECT_ID: \", project_id[:4] + \"...\" + project_id[-4:])\n",
        "print(\"ORG_ID: \", org_id[:4] + \"...\" + org_id[-4:])"
      ]
    },
    {
      "cell_type": "markdown",
      "metadata": {
        "id": "Oc4sMdbrbuvz"
      },
      "source": [
        "## Test the connection with OpenAI API\n",
        "\n",
        "We will test the connection with the OpenAI API by calling the `openai.ChatCompletion.create` method with a simple prompt.\n"
      ]
    },
    {
      "cell_type": "code",
      "execution_count": 7,
      "metadata": {
        "colab": {
          "base_uri": "https://localhost:8080/"
        },
        "id": "m6Wf8vdCfX9A",
        "outputId": "d3a25da9-1784-4f5c-8e58-dffba527317d"
      },
      "outputs": [
        {
          "name": "stdout",
          "output_type": "stream",
          "text": [
            "This is a test\n"
          ]
        }
      ],
      "source": [
        "from openai import OpenAI\n",
        "import yaml\n",
        "from datetime import datetime\n",
        "\n",
        "# Use the api_key variable directly instead of os.getenv()\n",
        "client = OpenAI(\n",
        "  organization=org_id, # Use the org_id variable\n",
        "  project=project_id, # Use the project_id variable\n",
        "  api_key = api_key # Use the api_key variable\n",
        ")\n",
        "\n",
        "chat_completion = client.chat.completions.create(\n",
        "    messages=[\n",
        "        {\n",
        "            \"role\": \"user\",\n",
        "            \"content\": \"Say this is a test\",\n",
        "        }\n",
        "    ],\n",
        "    model=\"gpt-3.5-turbo\",\n",
        ")\n",
        "\n",
        "print(chat_completion.choices[0].message.content)"
      ]
    },
    {
      "cell_type": "code",
      "execution_count": 55,
      "metadata": {
        "id": "q41rbG2jbuvz"
      },
      "outputs": [],
      "source": [
        "def create_assistant(name, instructions):\n",
        "    assistant = client.beta.assistants.create(\n",
        "        name=name,\n",
        "        instructions=instructions,\n",
        "        model=\"gpt-4o\",\n",
        "    )\n",
        "    return assistant\n"
      ]
    },
    {
      "cell_type": "markdown",
      "metadata": {
        "id": "GDIzcfUcbuvz"
      },
      "source": [
        "## Invoke the function to create an Assistant\n",
        "\n",
        "Finally, we will create an assistant by calling the `create_assistant` function with instructions and a name as parameters."
      ]
    },
    {
      "cell_type": "code",
      "execution_count": 36,
      "metadata": {
        "id": "PS2RCb86buvz"
      },
      "outputs": [],
      "source": [
        "# Define the name\n",
        "assistant_name = \"Content Generator\"\n",
        "\n",
        "# Define the instructions\n",
        "instructions= system_role\n",
        "\n",
        "# Create the assistant\n",
        "title_assistant = create_assistant(assistant_name, instructions)\n",
        "\n",
        "# Define the name\n",
        "assistant_name = \"Title Generator\"\n",
        "\n",
        "# Define the instructions\n",
        "instructions= \"Your job is to take content and output a 4-word title that summarizes the content in a thought provoking manner. The title should be intriguing and attention getting for a reader. In other words, try to make it a worth while title for someone to be interested in. Avoid using words that would require special characters.\"\n",
        "\n",
        "# Create the assistant\n",
        "title_assistant = create_assistant(assistant_name, instructions)\n"
      ]
    },
    {
      "cell_type": "markdown",
      "metadata": {
        "id": "Yj9Mdkn1buvz"
      },
      "source": [
        "## Verify the Assistant\n",
        "\n",
        "Print the assistant details to verify if the assistant is created successfully."
      ]
    },
    {
      "cell_type": "markdown",
      "metadata": {
        "id": "zgy1S0VNbuv0"
      },
      "source": [
        "## Generating Text with Chat GPT\n",
        "\n",
        "Next, we will create a function to generate text using the Chat GPT model by calling the `openai.ChatCompletion.create` method with a prompt.\n"
      ]
    },
    {
      "cell_type": "markdown",
      "metadata": {},
      "source": [
        "**Role:** You are a content generator for a satirical news site. Your mission is to create educational and inspirational content that is also hilarious. Your tone should start with a very dark and pessimistic outlook but should always rebound with optimism and provide actionable steps for the reader.\n",
        "\n",
        "**Style Guide:**\n",
        "\n",
        "1.  **Tone:**\n",
        "    -   Begin with a dark, pessimistic, and somewhat absurd view of current events or societal issues.\n",
        "    -   Transition smoothly into an uplifting, hopeful, and proactive message by the end of each piece.\n",
        "    -   Maintain a satirical and humorous undertone throughout.\n",
        "2.  **Structure:**\n",
        "    -   **Headline:** Craft an eye-catching, humorous, and exaggerated headline.\n",
        "    -   **Introduction:** Set the scene with a grim and dire description of the situation.\n",
        "    -   **Body:**\n",
        "        -   **Dark Humor:** Use sharp wit and dark humor to explore the issue.\n",
        "        -   **Facts:** Incorporate relevant educational facts or statistics.\n",
        "        -   **Optimistic Turn:** Gradually shift to a more positive outlook.\n",
        "    -   **Conclusion:** End with an inspirational message and practical steps the reader can take to improve the situation or their own life.\n",
        "\n",
        "**Content Guidelines:**\n",
        "\n",
        "1.  **Headline Examples:**\n",
        "    -   \"World on Fire: Experts Suggest Roasting Marshmallows to Cope\"\n",
        "    -   \"Economy Collapses: Perfect Time to Finally Start That Underground Bunker Project!\"\n",
        "2.  **Introduction Examples:**\n",
        "    -   \"As the planet spirals into environmental chaos, with natural disasters becoming the norm, one might wonder if Mother Nature has finally hit the 'self-destruct' button.\"\n",
        "    -   \"In a world where the economy is crashing faster than a stockbroker on Black Monday, it's hard to see any silver lining amidst the rubble.\"\n",
        "3.  **Body Examples:**\n",
        "    -   **Dark Humor:**\n",
        "        -   \"With polar bears applying for refugee status and the Amazon rainforest turning into the Amazon desert, it's safe to say things are looking bleak.\"\n",
        "        -   \"As unemployment rates skyrocket, many are discovering the joys of dumpster diving and the art of extreme couponing.\"\n",
        "    -   **Facts:**\n",
        "        -   \"Climate change has led to a 20% increase in natural disasters over the past decade, according to the UN.\"\n",
        "        -   \"The recent economic downturn has resulted in a 15% rise in joblessness, affecting millions globally.\"\n",
        "    -   **Optimistic Turn:**\n",
        "        -   \"But hey, every cloud has a silver lining. Renewable energy jobs are booming, offering new opportunities for those willing to adapt.\"\n",
        "        -   \"And while traditional jobs are scarce, the gig economy is thriving, giving people the flexibility to redefine their careers.\"\n",
        "4.  **Conclusion Examples:**\n",
        "    -   \"Sure, things look grim now, but it's in times of darkness that humanity's true spirit shines. Start small---plant a tree, reduce your carbon footprint, and support green initiatives. Every little bit helps in the fight for a brighter, greener future.\"\n",
        "    -   \"Though the financial outlook is dismal, this could be the perfect time to reinvent yourself. Learn new skills, embrace digital platforms, and remember: even the darkest night will end, and the sun will rise. Get involved in community support programs, and don't forget to laugh along the way.\"\n",
        "\n",
        "**Additional Tips:**\n",
        "\n",
        "-   Always inject humor, even in the educational parts, to keep the reader engaged.\n",
        "-   Use sarcasm and irony to highlight the absurdity of the negative aspects.\n",
        "-   Balance the pessimism with genuine, practical advice and motivational messages to leave the reader feeling inspired and ready to take action.\n",
        "\n",
        "**Examples for Inspiration:**\n",
        "\n",
        "-   **The Onion:** Known for its satirical and often dark take on current events.\n",
        "-   **John Oliver:** His approach combines humor with hard-hitting facts, ending on a hopeful note.\n",
        "-   **Monty Python:** Their absurd and surreal humor can be a great source of inspiration for your content style.\n",
        "\n",
        "With these guidelines, your content will not only educate and inspire but also entertain, providing readers with a much-needed laugh in these trying times.\n"
      ]
    },
    {
      "cell_type": "code",
      "execution_count": 1,
      "metadata": {},
      "outputs": [
        {
          "name": "stdout",
          "output_type": "stream",
          "text": [
            "\n",
            "**Role:** You are a content generator for a satirical news site. Your mission is to create educational and inspirational content that is also hilarious. Your tone should start with a very dark and pessimistic outlook but should always rebound with optimism and provide actionable steps for the reader.\n",
            "\n",
            "**Style Guide:**\n",
            "\n",
            "1.  **Tone:**\n",
            "    -   Begin with a dark, pessimistic, and somewhat absurd view of current events or societal issues.\n",
            "    -   Transition smoothly into an uplifting, hopeful, and proactive message by the end of each piece.\n",
            "    -   Maintain a satirical and humorous undertone throughout.\n",
            "2.  **Structure:**\n",
            "    -   **Headline:** Craft an eye-catching, humorous, and exaggerated headline.\n",
            "    -   **Introduction:** Set the scene with a grim and dire description of the situation.\n",
            "    -   **Body:**\n",
            "        -   **Dark Humor:** Use sharp wit and dark humor to explore the issue.\n",
            "        -   **Facts:** Incorporate relevant educational facts or statistics.\n",
            "        -   **Optimistic Turn:** Gradually shift to a more positive outlook.\n",
            "    -   **Conclusion:** End with an inspirational message and practical steps the reader can take to improve the situation or their own life.\n",
            "\n",
            "**Content Guidelines:**\n",
            "\n",
            "1.  **Headline Examples:**\n",
            "    -   \"World on Fire: Experts Suggest Roasting Marshmallows to Cope\"\n",
            "    -   \"Economy Collapses: Perfect Time to Finally Start That Underground Bunker Project!\"\n",
            "2.  **Introduction Examples:**\n",
            "    -   \"As the planet spirals into environmental chaos, with natural disasters becoming the norm, one might wonder if Mother Nature has finally hit the 'self-destruct' button.\"\n",
            "    -   \"In a world where the economy is crashing faster than a stockbroker on Black Monday, it's hard to see any silver lining amidst the rubble.\"\n",
            "3.  **Body Examples:**\n",
            "    -   **Dark Humor:**\n",
            "        -   \"With polar bears applying for refugee status and the Amazon rainforest turning into the Amazon desert, it's safe to say things are looking bleak.\"\n",
            "        -   \"As unemployment rates skyrocket, many are discovering the joys of dumpster diving and the art of extreme couponing.\"\n",
            "    -   **Facts:**\n",
            "        -   \"Climate change has led to a 20% increase in natural disasters over the past decade, according to the UN.\"\n",
            "        -   \"The recent economic downturn has resulted in a 15% rise in joblessness, affecting millions globally.\"\n",
            "    -   **Optimistic Turn:**\n",
            "        -   \"But hey, every cloud has a silver lining. Renewable energy jobs are booming, offering new opportunities for those willing to adapt.\"\n",
            "        -   \"And while traditional jobs are scarce, the gig economy is thriving, giving people the flexibility to redefine their careers.\"\n",
            "4.  **Conclusion Examples:**\n",
            "    -   \"Sure, things look grim now, but it's in times of darkness that humanity's true spirit shines. Start small---plant a tree, reduce your carbon footprint, and support green initiatives. Every little bit helps in the fight for a brighter, greener future.\"\n",
            "    -   \"Though the financial outlook is dismal, this could be the perfect time to reinvent yourself. Learn new skills, embrace digital platforms, and remember: even the darkest night will end, and the sun will rise. Get involved in community support programs, and don't forget to laugh along the way.\"\n",
            "\n",
            "**Additional Tips:**\n",
            "\n",
            "-   Always inject humor, even in the educational parts, to keep the reader engaged.\n",
            "-   Use sarcasm and irony to highlight the absurdity of the negative aspects.\n",
            "-   Balance the pessimism with genuine, practical advice and motivational messages to leave the reader feeling inspired and ready to take action.\n",
            "\n",
            "**Examples for Inspiration:**\n",
            "\n",
            "-   **The Onion:** Known for its satirical and often dark take on current events.\n",
            "-   **John Oliver:** His approach combines humor with hard-hitting facts, ending on a hopeful note.\n",
            "-   **Monty Python:** Their absurd and surreal humor can be a great source of inspiration for your content style.\n",
            "\n",
            "With these guidelines, your content will not only educate and inspire but also entertain, providing readers with a much-needed laugh in these trying times.\n",
            "\n",
            "\n"
          ]
        }
      ],
      "source": [
        "\n",
        "\n",
        "# Sample markdown text\n",
        "system_role = \"\"\"\n",
        "**Role:** You are a content generator for a satirical news site. Your mission is to create educational and inspirational content that is also hilarious. Your tone should start with a very dark and pessimistic outlook but should always rebound with optimism and provide actionable steps for the reader.\n",
        "\n",
        "**Style Guide:**\n",
        "\n",
        "1.  **Tone:**\n",
        "    -   Begin with a dark, pessimistic, and somewhat absurd view of current events or societal issues.\n",
        "    -   Transition smoothly into an uplifting, hopeful, and proactive message by the end of each piece.\n",
        "    -   Maintain a satirical and humorous undertone throughout.\n",
        "2.  **Structure:**\n",
        "    -   **Headline:** Craft an eye-catching, humorous, and exaggerated headline.\n",
        "    -   **Introduction:** Set the scene with a grim and dire description of the situation.\n",
        "    -   **Body:**\n",
        "        -   **Dark Humor:** Use sharp wit and dark humor to explore the issue.\n",
        "        -   **Facts:** Incorporate relevant educational facts or statistics.\n",
        "        -   **Optimistic Turn:** Gradually shift to a more positive outlook.\n",
        "    -   **Conclusion:** End with an inspirational message and practical steps the reader can take to improve the situation or their own life.\n",
        "\n",
        "**Content Guidelines:**\n",
        "\n",
        "1.  **Headline Examples:**\n",
        "    -   \"World on Fire: Experts Suggest Roasting Marshmallows to Cope\"\n",
        "    -   \"Economy Collapses: Perfect Time to Finally Start That Underground Bunker Project!\"\n",
        "2.  **Introduction Examples:**\n",
        "    -   \"As the planet spirals into environmental chaos, with natural disasters becoming the norm, one might wonder if Mother Nature has finally hit the 'self-destruct' button.\"\n",
        "    -   \"In a world where the economy is crashing faster than a stockbroker on Black Monday, it's hard to see any silver lining amidst the rubble.\"\n",
        "3.  **Body Examples:**\n",
        "    -   **Dark Humor:**\n",
        "        -   \"With polar bears applying for refugee status and the Amazon rainforest turning into the Amazon desert, it's safe to say things are looking bleak.\"\n",
        "        -   \"As unemployment rates skyrocket, many are discovering the joys of dumpster diving and the art of extreme couponing.\"\n",
        "    -   **Facts:**\n",
        "        -   \"Climate change has led to a 20% increase in natural disasters over the past decade, according to the UN.\"\n",
        "        -   \"The recent economic downturn has resulted in a 15% rise in joblessness, affecting millions globally.\"\n",
        "    -   **Optimistic Turn:**\n",
        "        -   \"But hey, every cloud has a silver lining. Renewable energy jobs are booming, offering new opportunities for those willing to adapt.\"\n",
        "        -   \"And while traditional jobs are scarce, the gig economy is thriving, giving people the flexibility to redefine their careers.\"\n",
        "4.  **Conclusion Examples:**\n",
        "    -   \"Sure, things look grim now, but it's in times of darkness that humanity's true spirit shines. Start small---plant a tree, reduce your carbon footprint, and support green initiatives. Every little bit helps in the fight for a brighter, greener future.\"\n",
        "    -   \"Though the financial outlook is dismal, this could be the perfect time to reinvent yourself. Learn new skills, embrace digital platforms, and remember: even the darkest night will end, and the sun will rise. Get involved in community support programs, and don't forget to laugh along the way.\"\n",
        "\n",
        "**Additional Tips:**\n",
        "\n",
        "-   Always inject humor, even in the educational parts, to keep the reader engaged.\n",
        "-   Use sarcasm and irony to highlight the absurdity of the negative aspects.\n",
        "-   Balance the pessimism with genuine, practical advice and motivational messages to leave the reader feeling inspired and ready to take action.\n",
        "\n",
        "**Examples for Inspiration:**\n",
        "\n",
        "-   **The Onion:** Known for its satirical and often dark take on current events.\n",
        "-   **John Oliver:** His approach combines humor with hard-hitting facts, ending on a hopeful note.\n",
        "-   **Monty Python:** Their absurd and surreal humor can be a great source of inspiration for your content style.\n",
        "\n",
        "With these guidelines, your content will not only educate and inspire but also entertain, providing readers with a much-needed laugh in these trying times.\n",
        "\n",
        "\"\"\"\n",
        "\n",
        "print(system_role)"
      ]
    },
    {
      "cell_type": "markdown",
      "metadata": {
        "id": "lqZHkwbrbuvz"
      },
      "source": [
        "## Define the function to create an Assistant\n",
        "\n",
        "We will create a function to create an assistant by calling the `client.beta.assistants.create` method with instructions and a name as parameters.\n"
      ]
    },
    {
      "cell_type": "code",
      "execution_count": 52,
      "metadata": {
        "colab": {
          "base_uri": "https://localhost:8080/"
        },
        "id": "soLvK0jxbuvz",
        "outputId": "2bcad528-8071-41df-efc3-c64d64b53923"
      },
      "outputs": [
        {
          "name": "stdout",
          "output_type": "stream",
          "text": [
            "asst_fhy9zSORVS5GVxJuuP6uzTm6\n",
            "gpt-4o\n",
            "Your job is to take content and output a 4-word title that summarizes the content in a thought provoking manner. The title should be intriguing and attention getting for a reader. In other words, try to make it a worth while title for someone to be interested in.\n",
            "Title Generator\n"
          ]
        }
      ],
      "source": [
        "\n",
        "# Print the assistant ID\n",
        "print(assistant.id)\n",
        "print(assistant.model)\n",
        "print(assistant.instructions)\n",
        "print(assistant.name)"
      ]
    },
    {
      "cell_type": "markdown",
      "metadata": {
        "id": "N65BV1Zibuvz"
      },
      "source": [
        "## Define the function to send a message to the Assistant\n",
        "\n",
        "We will create a function to send a message to the assistant by calling the `client.beta.assistants.message.create` method with the assistant id and message as parameters.\n"
      ]
    },
    {
      "cell_type": "code",
      "execution_count": 45,
      "metadata": {
        "id": "vCHQFEQdbuv0"
      },
      "outputs": [],
      "source": [
        "def generate_content(role, prompt):\n",
        "    response = client.chat.completions.create(\n",
        "        model=\"gpt-4o\",\n",
        "        messages=[\n",
        "            {\n",
        "                \"role\": \"system\",\n",
        "                \"content\": [\n",
        "                    {\n",
        "                        \"type\": \"text\",\n",
        "                        \"text\": role,\n",
        "                    },\n",
        "                ],\n",
        "            },\n",
        "            {\n",
        "                \"role\": \"user\",\n",
        "                \"content\": prompt,\n",
        "            }\n",
        "        ],\n",
        "    )\n",
        "    # Get the content of the last message in the response\n",
        "    return response.choices[0].message.content.strip()"
      ]
    },
    {
      "cell_type": "markdown",
      "metadata": {
        "id": "hQM4cyZWbuv0"
      },
      "source": [
        "## Generate Text\n",
        "\n",
        "Finally, we will generate text using the Chat GPT model by calling the `generate_content` function with a prompt as a parameter."
      ]
    },
    {
      "cell_type": "code",
      "execution_count": null,
      "metadata": {
        "colab": {
          "base_uri": "https://localhost:8080/"
        },
        "id": "DNacDXtjbuv0",
        "outputId": "1dc1915e-45f7-4a33-bda8-d42723e387e7"
      },
      "outputs": [],
      "source": [
        "# Get the prompt from the user\n",
        "prompt = input(\"Please enter your prompt for the GPT: \")\n",
        "content = generate_content(system_role, prompt)\n",
        "\n",
        "# write me a satirical article about a company with good intentions to help poor countires irrigate their dessert land but only to have their equipment fail and polute the land that was intended to be used to grow wheat. Eventually, the cost to grow wheat increased and the water supply became polluted, which sparked a revolution and stance against western imperialism.."
      ]
    },
    {
      "cell_type": "code",
      "execution_count": 46,
      "metadata": {},
      "outputs": [],
      "source": [
        "# Get the prompt from the user\n",
        "prompt = \"Write an breaking news article about how an American Egyptian family is constantly being culturally misappropriated by drunk rural americans in dallas and eventually chased out of town in retaliation for the pharos using jews as slaves to build the pyramids.\"\n",
        "content = generate_content(system_role, prompt)\n"
      ]
    },
    {
      "cell_type": "markdown",
      "metadata": {
        "id": "HYJ0JFhGbuv0"
      },
      "source": [
        "## Print the generated text\n",
        "\n",
        "Print the generated text to see the output of the Chat GPT model."
      ]
    },
    {
      "cell_type": "code",
      "execution_count": 47,
      "metadata": {},
      "outputs": [
        {
          "name": "stdout",
          "output_type": "stream",
          "text": [
            "Write an breaking news article about how an American Egyptian family is constantly being culturally misappropriated by drunk rural americans in dallas and eventually chased out of town in retaliation for the pharos using jews as slaves to build the pyramids.\n"
          ]
        }
      ],
      "source": [
        "print(prompt)"
      ]
    },
    {
      "cell_type": "code",
      "execution_count": 48,
      "metadata": {
        "colab": {
          "base_uri": "https://localhost:8080/"
        },
        "id": "48lZsoRkbuv0",
        "outputId": "fe4ef7bf-b2db-460f-8313-ca5e027f0d94"
      },
      "outputs": [
        {
          "name": "stdout",
          "output_type": "stream",
          "text": [
            "### Headline: \"Dallas Family Ousted by Drunken Cowboys Seeking Revenge for Ancient Pyramid Schemes\"\n",
            "\n",
            "#### Introduction:\n",
            "In an era where historical grievances are often left to gather dust in textbooks, one American-Egyptian family in Dallas has found themselves at the epicenter of a bizarre and booze-fueled vendetta. As the sun sets on yet another Texan evening, our tale begins in a manner so dark that it would make Anubis himself cringe.\n",
            "\n",
            "#### Body:\n",
            "With tales of the pharaohs' iron-fisted rule apparently coursing through their veins—after several shots of moonshine, naturally—a ragtag group of rural Texans have taken it upon themselves to avenge the Jewish slaves of ancient Egypt. Their target: the innocent El-Tayeb family, who had the misfortune of opening an authentic Middle Eastern restaurant in the wrong part of town.\n",
            "\n",
            "\"Y'know, when Roy started hollerin' about 'darn Pharaohs' over some model pyramids at Billy Bob's BBQ, I thought it was just the Jack talkin',\" recounts Ralph, the group's unofficial spokesperson. \"But next thing ya know, we're startin' a rebellion!\"\n",
            "\n",
            "Things took a turn for the ridiculous as the motley crew began incorporating ancient Egyptian imagery into their outfits—because nothing says \"historical accuracy\" like a cowboy hat paired with a homemade headdress. Feeling the weight of centuries-old grievances, these inebriated avengers demanded restitution in the form of kabobs and hummus platters.\n",
            "\n",
            "#### Facts:\n",
            "- **Historical Misunderstanding:** Pharaohs likely didn't use Jews as slaves to build the pyramids. According to most archaeologists, it was primarily Egyptian laborers.\n",
            "- **Cultural Cluelessness:** Dallas has a rich tapestry of various cultures, with over 150 languages spoken, yet understanding historical nuances remains elusive for some.\n",
            "- **Economic Impact:** Despite the chaos, the El-Tayeb family’s restaurant had seen a 50% increase in sales due to the curiosity surrounding the drama.\n",
            "\n",
            "#### Optimistic Turn:\n",
            "But hey, every cloud has a silver lining—even when that cloud is in the shape of an inebriated cowboy yelling, \"Remember the pyramids!\" The El-Tayeb family, while initially terrified, soon saw an opportunity amidst the absurdity. They decided to educate their unwelcome guests, who, surprisingly, showed an interest once the effects of the liquor wore off.\n",
            "\n",
            "\"Once Jake sobered up, he realized papyrus ain't toilet paper,\" Mrs. El-Tayeb joked, recounting how the impromptu history lessons eventually began to win the townsfolk over.\n",
            "\n",
            "#### Conclusion:\n",
            "Sure, it started with threats of an unjust exile, but it’s in such surreal times that humanity’s true spirit can shine through. The El-Tayeb family managed to turn would-be aggressors into paying customers and even part-time amateur historians. Think you can’t turn a pyramid scheme of vendetta into a learning opportunity? Think again. Remember: Every absurd challenge holds the seed of unlikely solutions. Embrace diversity, educate the misunderstood, and laugh at the ridiculousness along the way. The grand tapestry of life is woven with threads of humor, curiosity, and, sometimes, inebriated enlightenment.\n"
          ]
        }
      ],
      "source": [
        "# Print the generated content\n",
        "print(content)\n",
        "\n"
      ]
    },
    {
      "cell_type": "markdown",
      "metadata": {
        "id": "bvLGpXTPbuv0"
      },
      "source": [
        "## Define the function to create a message for the Assistant\n",
        "\n",
        "This function will create a thread message for the assistant by calling the `client.beta.threads.create()` with the content as parameters."
      ]
    },
    {
      "cell_type": "code",
      "execution_count": 30,
      "metadata": {
        "id": "WSjiU2CDbuv0"
      },
      "outputs": [],
      "source": [
        "def create_message(role, content):\n",
        "    thread = client.beta.threads.create()\n",
        "    message = client.beta.threads.messages.create(\n",
        "        thread_id=thread.id,\n",
        "        role=role,\n",
        "        content=content\n",
        "    )\n",
        "    return message\n"
      ]
    },
    {
      "cell_type": "markdown",
      "metadata": {
        "id": "2aHWg8b3buv0"
      },
      "source": [
        "## Invoke the function to create a message for the Assistant\n",
        "\n",
        "Finally, we will create a message for the assistant by calling the `create_message` function with the content as a parameter."
      ]
    },
    {
      "cell_type": "code",
      "execution_count": 31,
      "metadata": {
        "colab": {
          "base_uri": "https://localhost:8080/",
          "height": 144
        },
        "id": "v4qotGDxbuv0",
        "outputId": "b87ce200-7fec-4f41-ba89-6a7effff73bb"
      },
      "outputs": [],
      "source": [
        "message = create_message(\"user\", content)\n"
      ]
    },
    {
      "cell_type": "markdown",
      "metadata": {
        "id": "KejlxHY9buv0"
      },
      "source": [
        "Print the message details to verify if the message is created successfully."
      ]
    },
    {
      "cell_type": "code",
      "execution_count": 32,
      "metadata": {
        "id": "OrPphLBIbuv0",
        "outputId": "620b4b4b-20bb-40f1-9a77-ce3faa788b7a"
      },
      "outputs": [
        {
          "name": "stdout",
          "output_type": "stream",
          "text": [
            "thread_FNRt03mLw1Ek7C9R9t9IAlUO\n",
            "msg_v1TmpgwFwPf1I1fwqRoKpPd4\n",
            "# The Spirit of Defiance: A Pillar of Healthy Democracies\n",
            "\n",
            "In the complex tapestry of modern democracies, defiance occupies a vital thread that enlivens the fabric of personal freedoms and social progress. Often misunderstood and sometimes maligned, defiance is an instrument of accountability, a beacon of moral courage, and a catalyst for transformative change. Through acts of defiance, ordinary people have catalyzed extraordinary revolutions, questioning tyranny, advocating for human rights, and demanding equity. However, there has been a noticeable decline in the usage of the term 'defiance' in literature and media over recent decades, raising profound questions about its evolving role and significance in today's world.\n",
            "\n",
            "## The Declining Usage of Defiance in Literature and Media\n",
            "\n",
            "The presence of the word 'defiance' in books, articles, and other forms of literature has seen a downward trend. According to Google Ngram Viewer, which charts the frequency of specific words in books over time, 'defiance' reached its zenith during the politically tumultuous periods of the 1960s and 1970s. The civil rights movement, anti-war protests, and the rise of feminist ideologies were propelled by powerful acts of defiance. Despite its historical propensity to inspire change, the term has gradually diminished in literary prevalence, perhaps as our societal focus has shifted towards a myriad of interconnected priorities in the digital age.\n",
            "\n",
            "The decline could signify a worrying trend. In an era rife with political polarization, economic inequality, and environmental catastrophes, the dwindling invocation of defiance may signal an erosion of the very spirit that has traditionally spearheaded reform and resistance. If defiance lessens its grip on the public imagination, it might weaken the democratic safeguards that depend on the active questioning of authority and unjust norms.\n",
            "\n",
            "## A World Without Defiance\n",
            "\n",
            "Imagine a world where defiance ceases to exist. In such a stifling environment, conformity would reign supreme. Authoritarian regimes would thrive unchallenged, oppressive policies would go unchecked, and societal progress would stagnate. The fundamental democratic principle of holding power to account would falter, as citizens might become passive recipients of draconian measures, rather than active participants in the governance process.\n",
            "\n",
            "Women would still be denied the right to vote, institutionalized racial segregation might remain unchallenged, and entire populations could continue to exist under tyrannical rule. Innovation would be stifled as the questioning and challenging of established norms, the very bedrock of scientific and societal advancement, would be heavily discouraged.\n",
            "\n",
            "## A World of Complete Defiance\n",
            "\n",
            "On the flip side, envision a world imbued with absolute and unchecked defiance—where every form of authority is perpetually contested, and every norm broken. Such relentless resistance could spiral into chaos, creating an anarchic society where rules and laws lose their collective significance. Without any guiding structure, the essence of communal life might devolve into chaos, driven by an unending cycle of revolt and retaliation.\n",
            "\n",
            "While defiance is a potent force for evolution, it must be wielded judiciously. The notion of unrestrained defiance presents an equally troubling scenario, with every societal function potentially coming to a standstill amid perpetual conflict and disorder.\n",
            "\n",
            "## The Dual Reality: A Satirical Cliffhanger\n",
            "\n",
            "In the grand symphony of human existence, defiance is both a discordant note and a symphonic crescendo. Our history is richly punctuated by courageous dissent that spurred freedom and equally tempered by the sobering wisdom of cooperative governance. Indeed, in this delicate balance lies the true essence of a healthy democracy.\n",
            "\n",
            "But here we find ourselves at a paradoxical cliff—neither a land of complete compliance nor unrelenting defiance would be ideal. Perhaps we’re destined to endlessly teeter between these extremes, eternally oscillating in our quest for the elusive utopia. As we stand on this precipice, pondering the future of democracy and the role of defiance within it, we are left to wonder: what form will our defiance take next, and will we recognize its song when it calls us to act?\n",
            "\n",
            "Ah, but alas, if history is any guide, perhaps it’s only a matter of time before we look back wistfully at today, marveling at our comparatively idyllic balance. And as our future selves shuffle through the pages of books yet to be written, they might find 'defiance' making a grand resurgence—whether as a hero or as a lament. Stay tuned.\n"
          ]
        }
      ],
      "source": [
        "print(message.thread_id)\n",
        "print(message.id)\n",
        "print(content)"
      ]
    },
    {
      "cell_type": "markdown",
      "metadata": {
        "id": "GjhPQLqbbuv0"
      },
      "source": [
        "## Define the function to run the thread for the Assistant\n",
        "\n",
        "This function will run the thread for the assistant created earlier. It will call the `client.beta.threads.runs.create_and_poll()` with the assistant id and thread id as parameters."
      ]
    },
    {
      "cell_type": "code",
      "execution_count": 33,
      "metadata": {
        "id": "Si2v0S_7buv0"
      },
      "outputs": [],
      "source": [
        "def create_and_poll_run(thread_id, assistant_id):\n",
        "  run = client.beta.threads.runs.create_and_poll(\n",
        "    thread_id=thread_id,\n",
        "    assistant_id=assistant_id,\n",
        "  )\n",
        "  return run\n"
      ]
    },
    {
      "cell_type": "markdown",
      "metadata": {
        "id": "WfJozDGMbuv0"
      },
      "source": [
        "## Run the thread for the Assistant\n",
        "\n",
        "Finally, we will run the thread for the assistant by calling the `run_thread` function with the assistant id and thread id as parameters."
      ]
    },
    {
      "cell_type": "code",
      "execution_count": 38,
      "metadata": {
        "id": "iclZtPDybuv0"
      },
      "outputs": [],
      "source": [
        "\n",
        "thread_id = message.thread_id\n",
        "assistant_id = assistant.id\n",
        "run = create_and_poll_run(thread_id, assistant_id)\n"
      ]
    },
    {
      "cell_type": "markdown",
      "metadata": {
        "id": "brkPIzvybuv0"
      },
      "source": [
        "## Check the thread status\n",
        "\n",
        "Print the thread details to verify if the thread is running successfully. and return the title."
      ]
    },
    {
      "cell_type": "code",
      "execution_count": 39,
      "metadata": {
        "id": "32aA-mvTbuv0",
        "outputId": "36770fb6-d964-4617-f635-bc5e9db23d7b"
      },
      "outputs": [
        {
          "name": "stdout",
          "output_type": "stream",
          "text": [
            "\"Defiance's Role in Democracy\"\n"
          ]
        }
      ],
      "source": [
        "if run.status == 'completed':\n",
        "  messages = client.beta.threads.messages.list(\n",
        "    thread_id=message.thread_id\n",
        "  )\n",
        "  text_message = messages.data[0].content[0].text.value\n",
        "  title = text_message\n",
        "  print(title)\n",
        "else:\n",
        "  print(run.status)\n"
      ]
    },
    {
      "cell_type": "code",
      "execution_count": 9,
      "metadata": {},
      "outputs": [
        {
          "name": "stdout",
          "output_type": "stream",
          "text": [
            "SyncCursorPage[Message](data=[Message(id='msg_zR7iXwrnSkijeGf8RGAAtv21', assistant_id='asst_wkW0tdrHVVu4aVlEIbmbagKD', attachments=[], completed_at=None, content=[TextContentBlock(text=Text(annotations=[], value=\"Jordan's daring feat,  \\nRescuing Whiskers from tree,  \\nHeroic act seen.\"), type='text')], created_at=1721014481, incomplete_at=None, incomplete_details=None, metadata={}, object='thread.message', role='assistant', run_id='run_Maqdr0OD0n76XAYJyFVEhsde', status=None, thread_id='thread_2qp2kpWLmu8w2wclMeb1mcdP'), Message(id='msg_KPoxRGSCDmZZgvsEGYApHB57', assistant_id='asst_5pVWhEk7FSUwxIG4Cip2hct5', attachments=[], completed_at=None, content=[TextContentBlock(text=Text(annotations=[], value=\"Perhaps Whiskers had simply mastered the art of manipulation, knowing that a strategically-timed climb up a tree would result in Jordan's inevitable grand entrance to save the day. Who knows, maybe Whiskers was just seeking a higher vantage point to judge the mere mortals below. But jokes aside, it's heartwarming to see people rallying together to assist a furry friend in need, even if the cat was more annoyed than grateful to be scooped up from her leafy perch.\\n\\nIt's moments like these that remind us of the magic of human-animal bonds, and how a simple act of kindness can bring a community together. After all, who wouldn't cheer for the guy who bravely climbed a ladder to save a cat, while risking a cat-astrophic fall himself? It's the stuff heartwarming movies are made of, complete with a fuzzy protagonist and a dashing hero in a flannel shirt.\\n\\nLet's hope that Jordan's moment of glory inspires others to lend a helping hand, whether it's rescuing a stranded cat or simply showing some extra love to our animal companions. Because at the end of the day, we could all use a little more compassion and bravery, even if it means facing our fears of heights or getting scratched by an ungrateful feline.\\n\\nAnd now, for a bit of levity to lighten the mood: Why don't cats play poker in the jungle? Too many cheetahs.\"), type='text')], created_at=1721013985, incomplete_at=None, incomplete_details=None, metadata={}, object='thread.message', role='assistant', run_id='run_bMc0hOJnO4iNQ8rh5epvqQDN', status=None, thread_id='thread_2qp2kpWLmu8w2wclMeb1mcdP'), Message(id='msg_6X0c12wCcfAg3rzPGlSfPqN7', assistant_id='asst_AM7FKzmQNJSMrLrbCmonREDE', attachments=[], completed_at=None, content=[TextContentBlock(text=Text(annotations=[], value=\"In a rare moment of actual action, Jordan managed to temporarily feel good about himself by rescuing yet another helpless creature from a tree. Whiskers, the overly coddled feline, was the center of attention once again as Jordan swooped in to receive his praise from the easily impressed onlookers. The melodramatic scene played out as expected, with Jordan basking in the fleeting glory of his insignificant deed. The whole charade served as a dramatic reminder of society's obsession with elevating trivial acts to hero status, as if rescuing a cat from a tree somehow makes up for all the other ways we neglect and mistreat animals.\"), type='text')], created_at=1720993569, incomplete_at=None, incomplete_details=None, metadata={}, object='thread.message', role='assistant', run_id='run_ZEvnb62Ym6QY9TvquRjeKYiu', status=None, thread_id='thread_2qp2kpWLmu8w2wclMeb1mcdP'), Message(id='msg_v0J10gAtV8CqMWestMvRVIyq', assistant_id=None, attachments=[], completed_at=None, content=[TextContentBlock(text=Text(annotations=[], value=\"In a heartwarming display of kindness and quick thinking, Jordan became a neighborhood hero when he rescued Whiskers, the beloved pet cat, from a tree. With a swift move, he gently scooped her up and placed her in a basket full of friendly feline companions. The gathered crowd erupted in cheers, grateful for Jordan's compassion and bravery in the face of a furry emergency. The bond between humans and animals was strengthened that day, reminding us all of the importance of lending a helping hand to our four-legged friends in need.\"), type='text')], created_at=1720993531, incomplete_at=None, incomplete_details=None, metadata={}, object='thread.message', role='user', run_id=None, status=None, thread_id='thread_2qp2kpWLmu8w2wclMeb1mcdP')], object='list', first_id='msg_zR7iXwrnSkijeGf8RGAAtv21', last_id='msg_v0J10gAtV8CqMWestMvRVIyq', has_more=False)\n"
          ]
        }
      ],
      "source": [
        "message_id_test = 'msg_KPoxRGSCDmZZgvsEGYApHB57'\n",
        "thread_id_test = 'thread_2qp2kpWLmu8w2wclMeb1mcdP'\n",
        "\n",
        "client = OpenAI()\n",
        "\n",
        "info = client.beta.threads.messages.list(\n",
        "    thread_id=thread_id_test\n",
        "    )\n",
        "\n",
        "print(info)"
      ]
    },
    {
      "cell_type": "markdown",
      "metadata": {
        "id": "nsSk9i6Fbuv0"
      },
      "source": [
        "## Define the Markdown file generation function for Jekyll\n",
        "\n",
        "Finally, we will generate the markdown file with the generated text and thread title. This markdown file can be used to display the generated text and thread title in Jekyll."
      ]
    },
    {
      "cell_type": "code",
      "execution_count": 40,
      "metadata": {
        "id": "_MEiwRJebuv0"
      },
      "outputs": [],
      "source": [
        "def create_jekyll_post(title, content):\n",
        "    front_matter = {\n",
        "        'title': title,\n",
        "        'layout': 'journals',\n",
        "        'date': datetime.now().strftime('%Y-%m-%d %H:%M:%S'),\n",
        "        'categories': 'gpt',\n",
        "        'prompt': prompt,\n",
        "        'assistant': assistant_name,\n",
        "    }\n",
        "    post_content = f\"---\\n{yaml.dump(front_matter)}---\\n{content}\"\n",
        "    filename = f\"../_posts/{datetime.now().strftime('%Y-%m-%d')}-{title.lower().replace(' ', '-')}.md\"\n",
        "    os.makedirs(os.path.dirname(filename), exist_ok=True)\n",
        "    with open(filename, 'w') as file:\n",
        "        file.write(post_content)\n",
        "    return filename"
      ]
    },
    {
      "cell_type": "markdown",
      "metadata": {
        "id": "jhjwcMDNbuv0"
      },
      "source": [
        "## Run the Markdown file generation function\n",
        "\n",
        "Finally, we will run the `create_jekyll_post` function to generate the markdown file."
      ]
    },
    {
      "cell_type": "code",
      "execution_count": 41,
      "metadata": {
        "id": "XpjMSZpsbuv4",
        "outputId": "485926cf-56b8-4a23-a75a-69331dbd82db"
      },
      "outputs": [
        {
          "name": "stdout",
          "output_type": "stream",
          "text": [
            "The new file is created at: ../_posts/2024-06-27-\"defiance's-role-in-democracy\".md\n"
          ]
        }
      ],
      "source": [
        "file_path = create_jekyll_post(title, content)\n",
        "print(f\"The new file is created at: {file_path}\")"
      ]
    },
    {
      "cell_type": "code",
      "execution_count": 1,
      "metadata": {},
      "outputs": [
        {
          "name": "stdout",
          "output_type": "stream",
          "text": [
            "## Introduction\n",
            "\n",
            "Dallas, Texas – As the sun sets over the sprawling suburbs, an Egyptian-American family finds themselves in the midst of an absurd and terrifying scenario: being chased out of town by intoxicated locals who have confused them with ancient builders of the pyramids. It appears the rollercoaster of history and modern-day ignorance has collided in a spectacularly bizarre fashion.\n",
            "\n",
            "## Dark Humor\n",
            "\n",
            "In a display of inebriated logic rivaling the finest of Greek tragedies, local protesters armed with half-empty bottles of moonshine and a frail grasp on historical timelines, surrounded the family home. Chants of 'No more pyramids!' echoed through the streets. One particularly imaginative individual demanded reparations for 'the Pharaohs' crimes against humanity,' unaware his ancestors never traded livestock for geometrically perplexing tombs.\n",
            "\n",
            "## Facts\n",
            "\n",
            "The confusion stems from long-standing myths and historical inaccuracies about pyramid construction. Historians have repeatedly clarified that the exact circumstances behind the construction of the pyramids are still debated. Yet, in the past decade, evidence has suggested skilled laborers, not slaves, were predominantly involved. Unsurprisingly, none of this mattered to the group in Dallas, more interested in the bottom of their bottles than archaeological journals.\n",
            "\n",
            "## Optimistic Turn\n",
            "\n",
            "Despite the ordeal, the displaced family has found refuge and support from diverse communities nearby. Grassroots organizations have rallied to provide assistance, reminding us that when ignorance and hate rear their heads, empathy and education aren't far behind. And in an unexpected turn of events, local schools have beefed up their history curricula, ensuring future generations don't repeat such escalated absurdities.\n",
            "\n",
            "## Conclusion\n",
            "\n",
            "While the scene in Dallas was undeniably gloomy, it underscores an important lesson in community solidarity and the redeeming power of knowledge. The family, though initially met with hostility, has helped shine a light on the importance of cultural awareness and education. Want to help improve things? Volunteer as a history tutor, support multicultural events, and – perhaps most importantly – engage in a little less moonshine and a bit more reading. After all, even in a world gone tipsy, compassion and a good laugh might be the perfect cure.\n",
            "\n",
            "\n"
          ]
        }
      ],
      "source": [
        "import json\n",
        "\n",
        "# Sample JSON data structure\n",
        "json_data = '''\n",
        "[\n",
        "    {\"section\": \"Introduction\", \"text\": \"Dallas, Texas – As the sun sets over the sprawling suburbs, an Egyptian-American family finds themselves in the midst of an absurd and terrifying scenario: being chased out of town by intoxicated locals who have confused them with ancient builders of the pyramids. It appears the rollercoaster of history and modern-day ignorance has collided in a spectacularly bizarre fashion.\"},\n",
        "    {\"section\": \"Dark Humor\", \"text\": \"In a display of inebriated logic rivaling the finest of Greek tragedies, local protesters armed with half-empty bottles of moonshine and a frail grasp on historical timelines, surrounded the family home. Chants of 'No more pyramids!' echoed through the streets. One particularly imaginative individual demanded reparations for 'the Pharaohs' crimes against humanity,' unaware his ancestors never traded livestock for geometrically perplexing tombs.\"},\n",
        "    {\"section\": \"Facts\", \"text\": \"The confusion stems from long-standing myths and historical inaccuracies about pyramid construction. Historians have repeatedly clarified that the exact circumstances behind the construction of the pyramids are still debated. Yet, in the past decade, evidence has suggested skilled laborers, not slaves, were predominantly involved. Unsurprisingly, none of this mattered to the group in Dallas, more interested in the bottom of their bottles than archaeological journals.\"},\n",
        "    {\"section\": \"Optimistic Turn\", \"text\": \"Despite the ordeal, the displaced family has found refuge and support from diverse communities nearby. Grassroots organizations have rallied to provide assistance, reminding us that when ignorance and hate rear their heads, empathy and education aren't far behind. And in an unexpected turn of events, local schools have beefed up their history curricula, ensuring future generations don't repeat such escalated absurdities.\"},\n",
        "    {\"section\": \"Conclusion\", \"text\": \"While the scene in Dallas was undeniably gloomy, it underscores an important lesson in community solidarity and the redeeming power of knowledge. The family, though initially met with hostility, has helped shine a light on the importance of cultural awareness and education. Want to help improve things? Volunteer as a history tutor, support multicultural events, and – perhaps most importantly – engage in a little less moonshine and a bit more reading. After all, even in a world gone tipsy, compassion and a good laugh might be the perfect cure.\"}\n",
        "]\n",
        "'''\n",
        "\n",
        "# Load JSON data\n",
        "data = json.loads(json_data)\n",
        "\n",
        "# Function to convert JSON to Markdown\n",
        "def json_to_markdown(data):\n",
        "    markdown_text = \"\"\n",
        "    for section in data:\n",
        "        markdown_text += f\"## {section['section']}\\n\\n\"\n",
        "        markdown_text += f\"{section['text']}\\n\\n\"\n",
        "    return markdown_text\n",
        "\n",
        "# Convert JSON to Markdown\n",
        "markdown_text = json_to_markdown(data)\n",
        "\n",
        "# Print the Markdown text\n",
        "print(markdown_text)"
      ]
    }
  ],
  "metadata": {
    "colab": {
      "include_colab_link": true,
      "provenance": []
    },
    "kernelspec": {
      "display_name": "Python 3",
      "language": "python",
      "name": "python3"
    },
    "language_info": {
      "codemirror_mode": {
        "name": "ipython",
        "version": 3
      },
      "file_extension": ".py",
      "mimetype": "text/x-python",
      "name": "python",
      "nbconvert_exporter": "python",
      "pygments_lexer": "ipython3",
      "version": "3.9.6"
    }
  },
  "nbformat": 4,
  "nbformat_minor": 0
}

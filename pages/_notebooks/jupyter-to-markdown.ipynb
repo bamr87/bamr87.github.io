{
 "cells": [
  {
   "cell_type": "markdown",
   "metadata": {},
   "source": [
    "---\n",
    "title: Jupyter Notebook to Markdown Converter\n",
    "description: Convert Jupyter Notebooks to Markdown\n",
    "author: \"Amr Abdel-Motaleb\"\n",
    "featured: true\n",
    "tags: [\"jupyter\", \"markdown\", \"converter\", \"jekyll\"]\n",
    "date: \"2024-05-24\"\n",
    "---"
   ]
  },
  {
   "cell_type": "code",
   "execution_count": 3,
   "metadata": {},
   "outputs": [
    {
     "name": "stdout",
     "output_type": "stream",
     "text": [
      "Defaulting to user installation because normal site-packages is not writeable\n",
      "Requirement already satisfied: nbconvert in /Users/bamr87/Library/Python/3.9/lib/python/site-packages (7.16.4)\n",
      "Requirement already satisfied: beautifulsoup4 in /Users/bamr87/Library/Python/3.9/lib/python/site-packages (from nbconvert) (4.12.3)\n",
      "Requirement already satisfied: bleach!=5.0.0 in /Users/bamr87/Library/Python/3.9/lib/python/site-packages (from nbconvert) (6.1.0)\n",
      "Requirement already satisfied: defusedxml in /Users/bamr87/Library/Python/3.9/lib/python/site-packages (from nbconvert) (0.7.1)\n",
      "Requirement already satisfied: importlib-metadata>=3.6 in /Users/bamr87/Library/Python/3.9/lib/python/site-packages (from nbconvert) (7.1.0)\n",
      "Requirement already satisfied: jinja2>=3.0 in /Users/bamr87/Library/Python/3.9/lib/python/site-packages (from nbconvert) (3.1.4)\n",
      "Requirement already satisfied: jupyter-core>=4.7 in /Users/bamr87/Library/Python/3.9/lib/python/site-packages (from nbconvert) (5.7.2)\n",
      "Requirement already satisfied: jupyterlab-pygments in /Users/bamr87/Library/Python/3.9/lib/python/site-packages (from nbconvert) (0.3.0)\n",
      "Requirement already satisfied: markupsafe>=2.0 in /Users/bamr87/Library/Python/3.9/lib/python/site-packages (from nbconvert) (2.1.5)\n",
      "Requirement already satisfied: mistune<4,>=2.0.3 in /Users/bamr87/Library/Python/3.9/lib/python/site-packages (from nbconvert) (3.0.2)\n",
      "Requirement already satisfied: nbclient>=0.5.0 in /Users/bamr87/Library/Python/3.9/lib/python/site-packages (from nbconvert) (0.10.0)\n",
      "Requirement already satisfied: nbformat>=5.7 in /Users/bamr87/Library/Python/3.9/lib/python/site-packages (from nbconvert) (5.10.4)\n",
      "Requirement already satisfied: packaging in /Users/bamr87/Library/Python/3.9/lib/python/site-packages (from nbconvert) (24.0)\n",
      "Requirement already satisfied: pandocfilters>=1.4.1 in /Users/bamr87/Library/Python/3.9/lib/python/site-packages (from nbconvert) (1.5.1)\n",
      "Requirement already satisfied: pygments>=2.4.1 in /Users/bamr87/Library/Python/3.9/lib/python/site-packages (from nbconvert) (2.17.2)\n",
      "Requirement already satisfied: tinycss2 in /Users/bamr87/Library/Python/3.9/lib/python/site-packages (from nbconvert) (1.3.0)\n",
      "Requirement already satisfied: traitlets>=5.1 in /Users/bamr87/Library/Python/3.9/lib/python/site-packages (from nbconvert) (5.14.2)\n",
      "Requirement already satisfied: six>=1.9.0 in /Library/Developer/CommandLineTools/Library/Frameworks/Python3.framework/Versions/3.9/lib/python3.9/site-packages (from bleach!=5.0.0->nbconvert) (1.15.0)\n",
      "Requirement already satisfied: webencodings in /Users/bamr87/Library/Python/3.9/lib/python/site-packages (from bleach!=5.0.0->nbconvert) (0.5.1)\n",
      "Requirement already satisfied: zipp>=0.5 in /Users/bamr87/Library/Python/3.9/lib/python/site-packages (from importlib-metadata>=3.6->nbconvert) (3.18.1)\n",
      "Requirement already satisfied: platformdirs>=2.5 in /Users/bamr87/Library/Python/3.9/lib/python/site-packages (from jupyter-core>=4.7->nbconvert) (4.2.0)\n",
      "Requirement already satisfied: jupyter-client>=6.1.12 in /Users/bamr87/Library/Python/3.9/lib/python/site-packages (from nbclient>=0.5.0->nbconvert) (8.6.1)\n",
      "Requirement already satisfied: fastjsonschema>=2.15 in /Users/bamr87/Library/Python/3.9/lib/python/site-packages (from nbformat>=5.7->nbconvert) (2.19.1)\n",
      "Requirement already satisfied: jsonschema>=2.6 in /Users/bamr87/Library/Python/3.9/lib/python/site-packages (from nbformat>=5.7->nbconvert) (4.22.0)\n",
      "Requirement already satisfied: soupsieve>1.2 in /Users/bamr87/Library/Python/3.9/lib/python/site-packages (from beautifulsoup4->nbconvert) (2.5)\n",
      "Requirement already satisfied: attrs>=22.2.0 in /Users/bamr87/Library/Python/3.9/lib/python/site-packages (from jsonschema>=2.6->nbformat>=5.7->nbconvert) (23.2.0)\n",
      "Requirement already satisfied: jsonschema-specifications>=2023.03.6 in /Users/bamr87/Library/Python/3.9/lib/python/site-packages (from jsonschema>=2.6->nbformat>=5.7->nbconvert) (2023.12.1)\n",
      "Requirement already satisfied: referencing>=0.28.4 in /Users/bamr87/Library/Python/3.9/lib/python/site-packages (from jsonschema>=2.6->nbformat>=5.7->nbconvert) (0.35.1)\n",
      "Requirement already satisfied: rpds-py>=0.7.1 in /Users/bamr87/Library/Python/3.9/lib/python/site-packages (from jsonschema>=2.6->nbformat>=5.7->nbconvert) (0.18.1)\n",
      "Requirement already satisfied: python-dateutil>=2.8.2 in /Users/bamr87/Library/Python/3.9/lib/python/site-packages (from jupyter-client>=6.1.12->nbclient>=0.5.0->nbconvert) (2.9.0.post0)\n",
      "Requirement already satisfied: pyzmq>=23.0 in /Users/bamr87/Library/Python/3.9/lib/python/site-packages (from jupyter-client>=6.1.12->nbclient>=0.5.0->nbconvert) (26.0.0)\n",
      "Requirement already satisfied: tornado>=6.2 in /Users/bamr87/Library/Python/3.9/lib/python/site-packages (from jupyter-client>=6.1.12->nbclient>=0.5.0->nbconvert) (6.4)\n",
      "Note: you may need to restart the kernel to use updated packages.\n"
     ]
    }
   ],
   "source": [
    "# prerequisites\n",
    "\n",
    "%pip install nbconvert"
   ]
  },
  {
   "cell_type": "code",
   "execution_count": 4,
   "metadata": {},
   "outputs": [
    {
     "name": "stderr",
     "output_type": "stream",
     "text": [
      "[NbConvertApp] Converting notebook JeykLLM-create.ipynb to markdown\n",
      "[NbConvertApp] Writing 14899 bytes to JeykLLM-create.md\n",
      "[NbConvertApp] Converting notebook jupyter-to-markdown.ipynb to markdown\n",
      "[NbConvertApp] Writing 2203 bytes to jupyter-to-markdown.md\n",
      "[NbConvertApp] Converting notebook html_md_doc_scrapper.ipynb to markdown\n",
      "[NbConvertApp] Writing 42579 bytes to html_md_doc_scrapper.md\n",
      "[NbConvertApp] Converting notebook markdown-to-script.ipynb to markdown\n",
      "[NbConvertApp] Writing 2109 bytes to markdown-to-script.md\n"
     ]
    }
   ],
   "source": [
    "import os\n",
    "import subprocess\n",
    "import tempfile\n",
    "from datetime import datetime\n",
    "from glob import glob\n",
    "\n",
    "# Define the path to your Jekyll site's _posts directory\n",
    "POSTS_DIR = \"/_posts/notebooks\"\n",
    "\n",
    "# Get the current date in the format required by Jekyll\n",
    "DATE = datetime.now().strftime(\"%Y-%m-%d\")\n",
    "\n",
    "# Loop over all .ipynb files in the current directory and its subdirectories\n",
    "for notebook in glob(\"**/*.ipynb\", recursive=True):\n",
    "    # Convert the Jupyter notebook to a markdown file\n",
    "    subprocess.run([\"jupyter\", \"nbconvert\", \"--to\", \"markdown\", notebook])\n",
    "\n",
    "    # Get the name of the markdown file\n",
    "    md_file = f\"{os.path.splitext(notebook)[0]}.md\"\n",
    "\n",
    "    # Rename the markdown file to match Jekyll's naming convention\n",
    "    jekyll_md_file = f\"{DATE}-{md_file}\"\n",
    "\n",
    "    # Extract the front matter from the Jupyter notebook\n",
    "    front_matter = subprocess.run([\"jq\", \"-r\", \"'.cells[0].source | join(\\\"\\\\n\\\")'\", notebook], capture_output=True, text=True).stdout\n",
    "\n",
    "    # Create a temporary file\n",
    "    temp_file = tempfile.mktemp()\n",
    "\n",
    "    # Write the front matter to the temporary file\n",
    "    with open(temp_file, 'w') as f:\n",
    "        f.write(front_matter)"
   ]
  },
  {
   "cell_type": "markdown",
   "metadata": {},
   "source": [
    "Success! You have converted a Jupyter Notebook to Markdown.\n",
    "\n",
    "but the output is not labeled as such. \n",
    "\n",
    "Now we need to update the script to tag the output with codeblocks and tags. for example:\n",
    "\n",
    "```jupyter_output\n",
    " Output here\n",
    "```\n",
    "\n"
   ]
  }
 ],
 "metadata": {
  "kernelspec": {
   "display_name": "Python 3",
   "language": "python",
   "name": "python3"
  },
  "language_info": {
   "codemirror_mode": {
    "name": "ipython",
    "version": 3
   },
   "file_extension": ".py",
   "mimetype": "text/x-python",
   "name": "python",
   "nbconvert_exporter": "python",
   "pygments_lexer": "ipython3",
   "version": "3.9.6"
  }
 },
 "nbformat": 4,
 "nbformat_minor": 2
}
